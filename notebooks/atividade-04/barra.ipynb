{
 "cells": [
  {
   "cell_type": "code",
   "execution_count": 1,
   "id": "f4d956bb-2a42-46ab-b9bf-d27405851c0c",
   "metadata": {},
   "outputs": [],
   "source": [
    "from matplotlib import pyplot as plt\n",
    "import seaborn as sns\n",
    "import pandas as pd"
   ]
  },
  {
   "cell_type": "code",
   "execution_count": 2,
   "id": "6b58895f-ffcc-4d25-af40-8077fb3ed7e1",
   "metadata": {},
   "outputs": [
    {
     "data": {
      "text/html": [
       "<div>\n",
       "<style scoped>\n",
       "    .dataframe tbody tr th:only-of-type {\n",
       "        vertical-align: middle;\n",
       "    }\n",
       "\n",
       "    .dataframe tbody tr th {\n",
       "        vertical-align: top;\n",
       "    }\n",
       "\n",
       "    .dataframe thead th {\n",
       "        text-align: right;\n",
       "    }\n",
       "</style>\n",
       "<table border=\"1\" class=\"dataframe\">\n",
       "  <thead>\n",
       "    <tr style=\"text-align: right;\">\n",
       "      <th></th>\n",
       "      <th>arrecadacao</th>\n",
       "      <th>titulo</th>\n",
       "    </tr>\n",
       "  </thead>\n",
       "  <tbody>\n",
       "    <tr>\n",
       "      <th>0</th>\n",
       "      <td>7316746</td>\n",
       "      <td>Ferdinand</td>\n",
       "    </tr>\n",
       "    <tr>\n",
       "      <th>1</th>\n",
       "      <td>36169328</td>\n",
       "      <td>Jumanji: Welcome to the Jungle</td>\n",
       "    </tr>\n",
       "    <tr>\n",
       "      <th>2</th>\n",
       "      <td>19928525</td>\n",
       "      <td>Pitch Perfect 3</td>\n",
       "    </tr>\n",
       "    <tr>\n",
       "      <th>3</th>\n",
       "      <td>71565498</td>\n",
       "      <td>Star Wars: The Last Jedi</td>\n",
       "    </tr>\n",
       "    <tr>\n",
       "      <th>4</th>\n",
       "      <td>8805843</td>\n",
       "      <td>The Greatest Showman</td>\n",
       "    </tr>\n",
       "  </tbody>\n",
       "</table>\n",
       "</div>"
      ],
      "text/plain": [
       "   arrecadacao                          titulo\n",
       "0      7316746                       Ferdinand\n",
       "1     36169328  Jumanji: Welcome to the Jungle\n",
       "2     19928525                 Pitch Perfect 3\n",
       "3     71565498        Star Wars: The Last Jedi\n",
       "4      8805843            The Greatest Showman"
      ]
     },
     "execution_count": 2,
     "metadata": {},
     "output_type": "execute_result"
    }
   ],
   "source": [
    "df = pd.read_csv('https://gist.githubusercontent.com/omadson/770934cb0df9e2d2c3e8db031f1139a5/raw/4d181efc035b327d9d66256915951384517c603e/arrecadacao.csv')\n",
    "df.head()"
   ]
  },
  {
   "cell_type": "code",
   "execution_count": 3,
   "id": "ee3ab254-e255-4401-823d-0af0892bbc92",
   "metadata": {},
   "outputs": [],
   "source": [
    "df = df.assign(arrecadacao_milhao = df.arrecadacao / 1000000)"
   ]
  },
  {
   "cell_type": "code",
   "execution_count": 4,
   "id": "2dbfcdf2-78bd-427c-a59e-707ea51e1a22",
   "metadata": {},
   "outputs": [],
   "source": [
    "df = df.sort_values(by='arrecadacao', ascending=False)"
   ]
  },
  {
   "cell_type": "code",
   "execution_count": 5,
   "id": "f21e917b-b2ba-431b-a3d1-2fd73fc74f86",
   "metadata": {},
   "outputs": [],
   "source": [
    "sns.set_style(\"whitegrid\")"
   ]
  },
  {
   "cell_type": "code",
   "execution_count": 6,
   "id": "354d1625-6689-4e81-acdd-15203f5912b2",
   "metadata": {},
   "outputs": [
    {
     "data": {
      "image/png": "[encoded data removed]",
      "text/plain": [
       "<Figure size 360x144 with 1 Axes>"
      ]
     },
     "metadata": {
      "needs_background": "light"
     },
     "output_type": "display_data"
    }
   ],
   "source": [
    "plt.figure(figsize=(5, 2))\n",
    "ax = sns.barplot(data=df, x='arrecadacao_milhao', y='titulo', color='tomato')"
   ]
  },
  {
   "cell_type": "code",
   "execution_count": 7,
   "id": "3107759e-5b4f-4cca-8dcc-83e68f7f35b4",
   "metadata": {},
   "outputs": [
    {
     "data": {
      "text/plain": [
       "[Text(0, 0, '71.6'),\n",
       " Text(0, 0, '36.2'),\n",
       " Text(0, 0, '19.9'),\n",
       " Text(0, 0, '8.8'),\n",
       " Text(0, 0, '7.3')]"
      ]
     },
     "execution_count": 7,
     "metadata": {},
     "output_type": "execute_result"
    }
   ],
   "source": [
    "ax.bar_label(\n",
    "    ax.containers[0],\n",
    "    fmt='%.1f',\n",
    "    label_type='center',\n",
    "    color='white'\n",
    ")"
   ]
  },
  {
   "cell_type": "code",
   "execution_count": 8,
   "id": "eb96bcc9-1471-4b57-8640-c9f8945a2980",
   "metadata": {},
   "outputs": [
    {
     "data": {
      "text/plain": [
       "Text(0.5, 1.0, 'Arrecadação de filmes')"
      ]
     },
     "execution_count": 8,
     "metadata": {},
     "output_type": "execute_result"
    },
    {
     "data": {
      "image/png": "[encoded data removed]",
      "text/plain": [
       "<Figure size 432x288 with 1 Axes>"
      ]
     },
     "metadata": {
      "needs_background": "light"
     },
     "output_type": "display_data"
    }
   ],
   "source": [
    "plt.xlabel('Arrecadação (Milhões de dólares)')\n",
    "plt.ylabel('Filme')\n",
    "plt.title('Arrecadação de filmes')"
   ]
  },
  {
   "cell_type": "code",
   "execution_count": 9,
   "id": "ac7509b4-f8c7-4303-994f-1a03d3019565",
   "metadata": {},
   "outputs": [],
   "source": [
    "ax.set(frame_on=False)\n",
    "ax.axvline(0, color=\"k\", clip_on=False)\n",
    "plt.show()"
   ]
  },
  {
   "cell_type": "code",
   "execution_count": null,
   "id": "17902694-388e-424e-b01d-93ab690c6702",
   "metadata": {},
   "outputs": [],
   "source": []
  }
 ],
 "metadata": {
  "kernelspec": {
   "display_name": "Python 3 (ipykernel)",
   "language": "python",
   "name": "python3"
  },
  "language_info": {
   "codemirror_mode": {
    "name": "ipython",
    "version": 3
   },
   "file_extension": ".py",
   "mimetype": "text/x-python",
   "name": "python",
   "nbconvert_exporter": "python",
   "pygments_lexer": "ipython3",
   "version": "3.8.10"
  }
 },
 "nbformat": 4,
 "nbformat_minor": 5
}
